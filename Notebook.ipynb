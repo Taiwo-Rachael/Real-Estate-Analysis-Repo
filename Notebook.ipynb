{
  "nbformat": 4,
  "nbformat_minor": 0,
  "metadata": {
    "colab": {
      "provenance": []
    },
    "kernelspec": {
      "name": "python3",
      "display_name": "Python 3"
    },
    "language_info": {
      "name": "python"
    }
  },
  "cells": [
    {
      "cell_type": "code",
      "execution_count": null,
      "metadata": {
        "id": "YdclloD4Fgtj"
      },
      "outputs": [],
      "source": [
        "import pandas as pd"
      ]
    },
    {
      "cell_type": "code",
      "source": [
        "df = pd.read_csv('/content/drive/MyDrive/Data Science and Analytics/WTF Data Science and AI/Datasets/Power BI/Real Estate Dataset.csv')"
      ],
      "metadata": {
        "id": "foKrAY40Fj9W"
      },
      "execution_count": null,
      "outputs": []
    },
    {
      "cell_type": "markdown",
      "source": [
        "__DATASET INVESTIGATION__"
      ],
      "metadata": {
        "id": "uQSE5JpBIC-n"
      }
    },
    {
      "cell_type": "code",
      "source": [
        "df.head()"
      ],
      "metadata": {
        "colab": {
          "base_uri": "https://localhost:8080/",
          "height": 206
        },
        "id": "rfmKwWP7FkC4",
        "outputId": "53e78ba5-46d8-4f05-a1db-1e02fd6f0643"
      },
      "execution_count": null,
      "outputs": [
        {
          "output_type": "execute_result",
          "data": {
            "text/plain": [
              "         Date  Year    Locality  Estimated Value  Sale Price       Property  \\\n",
              "0  2009-01-02  2009   Waterbury         111440.0    185000.0  Single Family   \n",
              "1  2009-01-02  2009         NaN          73080.0    152000.0  Single Family   \n",
              "2  2009-01-02  2009   Waterbury          50540.0    105000.0  Single Family   \n",
              "3  2009-01-02  2009     Norwalk         571060.0   1000000.0  Single Family   \n",
              "4  2009-01-02  2009  Bridgeport        4775276.0    272900.0  Single Family   \n",
              "\n",
              "      Residential  num_rooms  num_bathrooms  carpet_area  property_tax_rate  \\\n",
              "0  Detached House          3              3        996.0           1.025953   \n",
              "1  Detached House          3              1        935.0           1.025953   \n",
              "2  Detached House          3              1        951.0           1.025953   \n",
              "3  Detached House          3              2          NaN           1.025953   \n",
              "4  Detached House          3              1        971.0           1.025953   \n",
              "\n",
              "    Face  \n",
              "0  South  \n",
              "1  North  \n",
              "2   East  \n",
              "3  South  \n",
              "4   East  "
            ],
            "text/html": [
              "\n",
              "  <div id=\"df-b43b9410-66fe-4044-93f1-412974ec0d49\" class=\"colab-df-container\">\n",
              "    <div>\n",
              "<style scoped>\n",
              "    .dataframe tbody tr th:only-of-type {\n",
              "        vertical-align: middle;\n",
              "    }\n",
              "\n",
              "    .dataframe tbody tr th {\n",
              "        vertical-align: top;\n",
              "    }\n",
              "\n",
              "    .dataframe thead th {\n",
              "        text-align: right;\n",
              "    }\n",
              "</style>\n",
              "<table border=\"1\" class=\"dataframe\">\n",
              "  <thead>\n",
              "    <tr style=\"text-align: right;\">\n",
              "      <th></th>\n",
              "      <th>Date</th>\n",
              "      <th>Year</th>\n",
              "      <th>Locality</th>\n",
              "      <th>Estimated Value</th>\n",
              "      <th>Sale Price</th>\n",
              "      <th>Property</th>\n",
              "      <th>Residential</th>\n",
              "      <th>num_rooms</th>\n",
              "      <th>num_bathrooms</th>\n",
              "      <th>carpet_area</th>\n",
              "      <th>property_tax_rate</th>\n",
              "      <th>Face</th>\n",
              "    </tr>\n",
              "  </thead>\n",
              "  <tbody>\n",
              "    <tr>\n",
              "      <th>0</th>\n",
              "      <td>2009-01-02</td>\n",
              "      <td>2009</td>\n",
              "      <td>Waterbury</td>\n",
              "      <td>111440.0</td>\n",
              "      <td>185000.0</td>\n",
              "      <td>Single Family</td>\n",
              "      <td>Detached House</td>\n",
              "      <td>3</td>\n",
              "      <td>3</td>\n",
              "      <td>996.0</td>\n",
              "      <td>1.025953</td>\n",
              "      <td>South</td>\n",
              "    </tr>\n",
              "    <tr>\n",
              "      <th>1</th>\n",
              "      <td>2009-01-02</td>\n",
              "      <td>2009</td>\n",
              "      <td>NaN</td>\n",
              "      <td>73080.0</td>\n",
              "      <td>152000.0</td>\n",
              "      <td>Single Family</td>\n",
              "      <td>Detached House</td>\n",
              "      <td>3</td>\n",
              "      <td>1</td>\n",
              "      <td>935.0</td>\n",
              "      <td>1.025953</td>\n",
              "      <td>North</td>\n",
              "    </tr>\n",
              "    <tr>\n",
              "      <th>2</th>\n",
              "      <td>2009-01-02</td>\n",
              "      <td>2009</td>\n",
              "      <td>Waterbury</td>\n",
              "      <td>50540.0</td>\n",
              "      <td>105000.0</td>\n",
              "      <td>Single Family</td>\n",
              "      <td>Detached House</td>\n",
              "      <td>3</td>\n",
              "      <td>1</td>\n",
              "      <td>951.0</td>\n",
              "      <td>1.025953</td>\n",
              "      <td>East</td>\n",
              "    </tr>\n",
              "    <tr>\n",
              "      <th>3</th>\n",
              "      <td>2009-01-02</td>\n",
              "      <td>2009</td>\n",
              "      <td>Norwalk</td>\n",
              "      <td>571060.0</td>\n",
              "      <td>1000000.0</td>\n",
              "      <td>Single Family</td>\n",
              "      <td>Detached House</td>\n",
              "      <td>3</td>\n",
              "      <td>2</td>\n",
              "      <td>NaN</td>\n",
              "      <td>1.025953</td>\n",
              "      <td>South</td>\n",
              "    </tr>\n",
              "    <tr>\n",
              "      <th>4</th>\n",
              "      <td>2009-01-02</td>\n",
              "      <td>2009</td>\n",
              "      <td>Bridgeport</td>\n",
              "      <td>4775276.0</td>\n",
              "      <td>272900.0</td>\n",
              "      <td>Single Family</td>\n",
              "      <td>Detached House</td>\n",
              "      <td>3</td>\n",
              "      <td>1</td>\n",
              "      <td>971.0</td>\n",
              "      <td>1.025953</td>\n",
              "      <td>East</td>\n",
              "    </tr>\n",
              "  </tbody>\n",
              "</table>\n",
              "</div>\n",
              "    <div class=\"colab-df-buttons\">\n",
              "\n",
              "  <div class=\"colab-df-container\">\n",
              "    <button class=\"colab-df-convert\" onclick=\"convertToInteractive('df-b43b9410-66fe-4044-93f1-412974ec0d49')\"\n",
              "            title=\"Convert this dataframe to an interactive table.\"\n",
              "            style=\"display:none;\">\n",
              "\n",
              "  <svg xmlns=\"http://www.w3.org/2000/svg\" height=\"24px\" viewBox=\"0 -960 960 960\">\n",
              "    <path d=\"M120-120v-720h720v720H120Zm60-500h600v-160H180v160Zm220 220h160v-160H400v160Zm0 220h160v-160H400v160ZM180-400h160v-160H180v160Zm440 0h160v-160H620v160ZM180-180h160v-160H180v160Zm440 0h160v-160H620v160Z\"/>\n",
              "  </svg>\n",
              "    </button>\n",
              "\n",
              "  <style>\n",
              "    .colab-df-container {\n",
              "      display:flex;\n",
              "      gap: 12px;\n",
              "    }\n",
              "\n",
              "    .colab-df-convert {\n",
              "      background-color: #E8F0FE;\n",
              "      border: none;\n",
              "      border-radius: 50%;\n",
              "      cursor: pointer;\n",
              "      display: none;\n",
              "      fill: #1967D2;\n",
              "      height: 32px;\n",
              "      padding: 0 0 0 0;\n",
              "      width: 32px;\n",
              "    }\n",
              "\n",
              "    .colab-df-convert:hover {\n",
              "      background-color: #E2EBFA;\n",
              "      box-shadow: 0px 1px 2px rgba(60, 64, 67, 0.3), 0px 1px 3px 1px rgba(60, 64, 67, 0.15);\n",
              "      fill: #174EA6;\n",
              "    }\n",
              "\n",
              "    .colab-df-buttons div {\n",
              "      margin-bottom: 4px;\n",
              "    }\n",
              "\n",
              "    [theme=dark] .colab-df-convert {\n",
              "      background-color: #3B4455;\n",
              "      fill: #D2E3FC;\n",
              "    }\n",
              "\n",
              "    [theme=dark] .colab-df-convert:hover {\n",
              "      background-color: #434B5C;\n",
              "      box-shadow: 0px 1px 3px 1px rgba(0, 0, 0, 0.15);\n",
              "      filter: drop-shadow(0px 1px 2px rgba(0, 0, 0, 0.3));\n",
              "      fill: #FFFFFF;\n",
              "    }\n",
              "  </style>\n",
              "\n",
              "    <script>\n",
              "      const buttonEl =\n",
              "        document.querySelector('#df-b43b9410-66fe-4044-93f1-412974ec0d49 button.colab-df-convert');\n",
              "      buttonEl.style.display =\n",
              "        google.colab.kernel.accessAllowed ? 'block' : 'none';\n",
              "\n",
              "      async function convertToInteractive(key) {\n",
              "        const element = document.querySelector('#df-b43b9410-66fe-4044-93f1-412974ec0d49');\n",
              "        const dataTable =\n",
              "          await google.colab.kernel.invokeFunction('convertToInteractive',\n",
              "                                                    [key], {});\n",
              "        if (!dataTable) return;\n",
              "\n",
              "        const docLinkHtml = 'Like what you see? Visit the ' +\n",
              "          '<a target=\"_blank\" href=https://colab.research.google.com/notebooks/data_table.ipynb>data table notebook</a>'\n",
              "          + ' to learn more about interactive tables.';\n",
              "        element.innerHTML = '';\n",
              "        dataTable['output_type'] = 'display_data';\n",
              "        await google.colab.output.renderOutput(dataTable, element);\n",
              "        const docLink = document.createElement('div');\n",
              "        docLink.innerHTML = docLinkHtml;\n",
              "        element.appendChild(docLink);\n",
              "      }\n",
              "    </script>\n",
              "  </div>\n",
              "\n",
              "\n",
              "<div id=\"df-83067e74-8357-4214-9ad6-046a27cbbcd9\">\n",
              "  <button class=\"colab-df-quickchart\" onclick=\"quickchart('df-83067e74-8357-4214-9ad6-046a27cbbcd9')\"\n",
              "            title=\"Suggest charts\"\n",
              "            style=\"display:none;\">\n",
              "\n",
              "<svg xmlns=\"http://www.w3.org/2000/svg\" height=\"24px\"viewBox=\"0 0 24 24\"\n",
              "     width=\"24px\">\n",
              "    <g>\n",
              "        <path d=\"M19 3H5c-1.1 0-2 .9-2 2v14c0 1.1.9 2 2 2h14c1.1 0 2-.9 2-2V5c0-1.1-.9-2-2-2zM9 17H7v-7h2v7zm4 0h-2V7h2v10zm4 0h-2v-4h2v4z\"/>\n",
              "    </g>\n",
              "</svg>\n",
              "  </button>\n",
              "\n",
              "<style>\n",
              "  .colab-df-quickchart {\n",
              "      --bg-color: #E8F0FE;\n",
              "      --fill-color: #1967D2;\n",
              "      --hover-bg-color: #E2EBFA;\n",
              "      --hover-fill-color: #174EA6;\n",
              "      --disabled-fill-color: #AAA;\n",
              "      --disabled-bg-color: #DDD;\n",
              "  }\n",
              "\n",
              "  [theme=dark] .colab-df-quickchart {\n",
              "      --bg-color: #3B4455;\n",
              "      --fill-color: #D2E3FC;\n",
              "      --hover-bg-color: #434B5C;\n",
              "      --hover-fill-color: #FFFFFF;\n",
              "      --disabled-bg-color: #3B4455;\n",
              "      --disabled-fill-color: #666;\n",
              "  }\n",
              "\n",
              "  .colab-df-quickchart {\n",
              "    background-color: var(--bg-color);\n",
              "    border: none;\n",
              "    border-radius: 50%;\n",
              "    cursor: pointer;\n",
              "    display: none;\n",
              "    fill: var(--fill-color);\n",
              "    height: 32px;\n",
              "    padding: 0;\n",
              "    width: 32px;\n",
              "  }\n",
              "\n",
              "  .colab-df-quickchart:hover {\n",
              "    background-color: var(--hover-bg-color);\n",
              "    box-shadow: 0 1px 2px rgba(60, 64, 67, 0.3), 0 1px 3px 1px rgba(60, 64, 67, 0.15);\n",
              "    fill: var(--button-hover-fill-color);\n",
              "  }\n",
              "\n",
              "  .colab-df-quickchart-complete:disabled,\n",
              "  .colab-df-quickchart-complete:disabled:hover {\n",
              "    background-color: var(--disabled-bg-color);\n",
              "    fill: var(--disabled-fill-color);\n",
              "    box-shadow: none;\n",
              "  }\n",
              "\n",
              "  .colab-df-spinner {\n",
              "    border: 2px solid var(--fill-color);\n",
              "    border-color: transparent;\n",
              "    border-bottom-color: var(--fill-color);\n",
              "    animation:\n",
              "      spin 1s steps(1) infinite;\n",
              "  }\n",
              "\n",
              "  @keyframes spin {\n",
              "    0% {\n",
              "      border-color: transparent;\n",
              "      border-bottom-color: var(--fill-color);\n",
              "      border-left-color: var(--fill-color);\n",
              "    }\n",
              "    20% {\n",
              "      border-color: transparent;\n",
              "      border-left-color: var(--fill-color);\n",
              "      border-top-color: var(--fill-color);\n",
              "    }\n",
              "    30% {\n",
              "      border-color: transparent;\n",
              "      border-left-color: var(--fill-color);\n",
              "      border-top-color: var(--fill-color);\n",
              "      border-right-color: var(--fill-color);\n",
              "    }\n",
              "    40% {\n",
              "      border-color: transparent;\n",
              "      border-right-color: var(--fill-color);\n",
              "      border-top-color: var(--fill-color);\n",
              "    }\n",
              "    60% {\n",
              "      border-color: transparent;\n",
              "      border-right-color: var(--fill-color);\n",
              "    }\n",
              "    80% {\n",
              "      border-color: transparent;\n",
              "      border-right-color: var(--fill-color);\n",
              "      border-bottom-color: var(--fill-color);\n",
              "    }\n",
              "    90% {\n",
              "      border-color: transparent;\n",
              "      border-bottom-color: var(--fill-color);\n",
              "    }\n",
              "  }\n",
              "</style>\n",
              "\n",
              "  <script>\n",
              "    async function quickchart(key) {\n",
              "      const quickchartButtonEl =\n",
              "        document.querySelector('#' + key + ' button');\n",
              "      quickchartButtonEl.disabled = true;  // To prevent multiple clicks.\n",
              "      quickchartButtonEl.classList.add('colab-df-spinner');\n",
              "      try {\n",
              "        const charts = await google.colab.kernel.invokeFunction(\n",
              "            'suggestCharts', [key], {});\n",
              "      } catch (error) {\n",
              "        console.error('Error during call to suggestCharts:', error);\n",
              "      }\n",
              "      quickchartButtonEl.classList.remove('colab-df-spinner');\n",
              "      quickchartButtonEl.classList.add('colab-df-quickchart-complete');\n",
              "    }\n",
              "    (() => {\n",
              "      let quickchartButtonEl =\n",
              "        document.querySelector('#df-83067e74-8357-4214-9ad6-046a27cbbcd9 button');\n",
              "      quickchartButtonEl.style.display =\n",
              "        google.colab.kernel.accessAllowed ? 'block' : 'none';\n",
              "    })();\n",
              "  </script>\n",
              "</div>\n",
              "\n",
              "    </div>\n",
              "  </div>\n"
            ],
            "application/vnd.google.colaboratory.intrinsic+json": {
              "type": "dataframe",
              "variable_name": "df",
              "summary": "{\n  \"name\": \"df\",\n  \"rows\": 10000,\n  \"fields\": [\n    {\n      \"column\": \"Date\",\n      \"properties\": {\n        \"dtype\": \"object\",\n        \"num_unique_values\": 3089,\n        \"samples\": [\n          \"2021-05-01\",\n          \"2014-12-31\",\n          \"2016-05-07\"\n        ],\n        \"semantic_type\": \"\",\n        \"description\": \"\"\n      }\n    },\n    {\n      \"column\": \"Year\",\n      \"properties\": {\n        \"dtype\": \"number\",\n        \"std\": 4,\n        \"min\": 2009,\n        \"max\": 2022,\n        \"num_unique_values\": 14,\n        \"samples\": [\n          2018,\n          2020,\n          2009\n        ],\n        \"semantic_type\": \"\",\n        \"description\": \"\"\n      }\n    },\n    {\n      \"column\": \"Locality\",\n      \"properties\": {\n        \"dtype\": \"category\",\n        \"num_unique_values\": 7,\n        \"samples\": [\n          \"Waterbury\",\n          \"Norwalk\",\n          \"West Hartford\"\n        ],\n        \"semantic_type\": \"\",\n        \"description\": \"\"\n      }\n    },\n    {\n      \"column\": \"Estimated Value\",\n      \"properties\": {\n        \"dtype\": \"number\",\n        \"std\": 751356.4590500176,\n        \"min\": 0.0,\n        \"max\": 21119910.0,\n        \"num_unique_values\": 7697,\n        \"samples\": [\n          210430.0,\n          121510.0,\n          379420.0\n        ],\n        \"semantic_type\": \"\",\n        \"description\": \"\"\n      }\n    },\n    {\n      \"column\": \"Sale Price\",\n      \"properties\": {\n        \"dtype\": \"number\",\n        \"std\": 1029709.441727534,\n        \"min\": 2000.0,\n        \"max\": 25750000.0,\n        \"num_unique_values\": 2619,\n        \"samples\": [\n          112513.0,\n          144000.0,\n          241100.0\n        ],\n        \"semantic_type\": \"\",\n        \"description\": \"\"\n      }\n    },\n    {\n      \"column\": \"Property\",\n      \"properties\": {\n        \"dtype\": \"category\",\n        \"num_unique_values\": 5,\n        \"samples\": [\n          \"?\",\n          \"Four Family\",\n          \"Two Family\"\n        ],\n        \"semantic_type\": \"\",\n        \"description\": \"\"\n      }\n    },\n    {\n      \"column\": \"Residential\",\n      \"properties\": {\n        \"dtype\": \"category\",\n        \"num_unique_values\": 4,\n        \"samples\": [\n          \"Duplex\",\n          \"Fourplex\",\n          \"Detached House\"\n        ],\n        \"semantic_type\": \"\",\n        \"description\": \"\"\n      }\n    },\n    {\n      \"column\": \"num_rooms\",\n      \"properties\": {\n        \"dtype\": \"number\",\n        \"std\": 0,\n        \"min\": 3,\n        \"max\": 8,\n        \"num_unique_values\": 4,\n        \"samples\": [\n          4,\n          8,\n          3\n        ],\n        \"semantic_type\": \"\",\n        \"description\": \"\"\n      }\n    },\n    {\n      \"column\": \"num_bathrooms\",\n      \"properties\": {\n        \"dtype\": \"number\",\n        \"std\": 1,\n        \"min\": 1,\n        \"max\": 8,\n        \"num_unique_values\": 8,\n        \"samples\": [\n          1,\n          5,\n          3\n        ],\n        \"semantic_type\": \"\",\n        \"description\": \"\"\n      }\n    },\n    {\n      \"column\": \"carpet_area\",\n      \"properties\": {\n        \"dtype\": \"number\",\n        \"std\": 305.0584549064621,\n        \"min\": 900.0,\n        \"max\": 2989.0,\n        \"num_unique_values\": 861,\n        \"samples\": [\n          2414.0,\n          1380.0,\n          1436.0\n        ],\n        \"semantic_type\": \"\",\n        \"description\": \"\"\n      }\n    },\n    {\n      \"column\": \"property_tax_rate\",\n      \"properties\": {\n        \"dtype\": \"number\",\n        \"std\": 0.1667620780888612,\n        \"min\": 1.003979,\n        \"max\": 1.422308,\n        \"num_unique_values\": 14,\n        \"samples\": [\n          1.422308,\n          1.0254395,\n          1.025953\n        ],\n        \"semantic_type\": \"\",\n        \"description\": \"\"\n      }\n    },\n    {\n      \"column\": \"Face\",\n      \"properties\": {\n        \"dtype\": \"category\",\n        \"num_unique_values\": 4,\n        \"samples\": [\n          \"North\",\n          \"West\",\n          \"South\"\n        ],\n        \"semantic_type\": \"\",\n        \"description\": \"\"\n      }\n    }\n  ]\n}"
            }
          },
          "metadata": {},
          "execution_count": 13
        }
      ]
    },
    {
      "cell_type": "code",
      "source": [
        "#check dataset info\n",
        "df.info()"
      ],
      "metadata": {
        "colab": {
          "base_uri": "https://localhost:8080/"
        },
        "id": "K0dZo_oLFkEy",
        "outputId": "2383f106-d8d0-4992-c272-05404267f8d7"
      },
      "execution_count": null,
      "outputs": [
        {
          "output_type": "stream",
          "name": "stdout",
          "text": [
            "<class 'pandas.core.frame.DataFrame'>\n",
            "RangeIndex: 10000 entries, 0 to 9999\n",
            "Data columns (total 12 columns):\n",
            " #   Column             Non-Null Count  Dtype  \n",
            "---  ------             --------------  -----  \n",
            " 0   Date               10000 non-null  object \n",
            " 1   Year               10000 non-null  int64  \n",
            " 2   Locality           8745 non-null   object \n",
            " 3   Estimated Value    8771 non-null   float64\n",
            " 4   Sale Price         10000 non-null  float64\n",
            " 5   Property           10000 non-null  object \n",
            " 6   Residential        10000 non-null  object \n",
            " 7   num_rooms          10000 non-null  int64  \n",
            " 8   num_bathrooms      10000 non-null  int64  \n",
            " 9   carpet_area        8718 non-null   float64\n",
            " 10  property_tax_rate  10000 non-null  float64\n",
            " 11  Face               10000 non-null  object \n",
            "dtypes: float64(4), int64(3), object(5)\n",
            "memory usage: 937.6+ KB\n"
          ]
        }
      ]
    },
    {
      "cell_type": "code",
      "source": [
        "# checking percentage of null values\n",
        "round(df.isna().sum()/ df.shape[0] , 2)"
      ],
      "metadata": {
        "colab": {
          "base_uri": "https://localhost:8080/"
        },
        "id": "Rln7-TPsMWQZ",
        "outputId": "d7747018-61c3-4516-e015-6b07887e667f"
      },
      "execution_count": null,
      "outputs": [
        {
          "output_type": "execute_result",
          "data": {
            "text/plain": [
              "Date                 0.00\n",
              "Year                 0.00\n",
              "Locality             0.13\n",
              "Estimated Value      0.12\n",
              "Sale Price           0.00\n",
              "Property             0.00\n",
              "Residential          0.00\n",
              "num_rooms            0.00\n",
              "num_bathrooms        0.00\n",
              "carpet_area          0.13\n",
              "property_tax_rate    0.00\n",
              "Face                 0.00\n",
              "dtype: float64"
            ]
          },
          "metadata": {},
          "execution_count": 15
        }
      ]
    },
    {
      "cell_type": "markdown",
      "source": [
        "__To do:__\n",
        "replace null values in Locality, Estimated Value and carpet_area\n"
      ],
      "metadata": {
        "id": "JGg1xWM1Gp25"
      }
    },
    {
      "cell_type": "code",
      "source": [
        "# checking for duplicated entries\n",
        "df.duplicated().sum()"
      ],
      "metadata": {
        "colab": {
          "base_uri": "https://localhost:8080/"
        },
        "id": "TZhVMdKtRgDf",
        "outputId": "dc080ff2-df7d-496d-994b-b05752d18005"
      },
      "execution_count": null,
      "outputs": [
        {
          "output_type": "execute_result",
          "data": {
            "text/plain": [
              "0"
            ]
          },
          "metadata": {},
          "execution_count": 32
        }
      ]
    },
    {
      "cell_type": "code",
      "source": [
        "# checking statistical summary\n",
        "df.describe()"
      ],
      "metadata": {
        "colab": {
          "base_uri": "https://localhost:8080/",
          "height": 300
        },
        "id": "K3Sk3pisIWXa",
        "outputId": "55a6ee7a-de5e-4834-e022-41188c988694"
      },
      "execution_count": null,
      "outputs": [
        {
          "output_type": "execute_result",
          "data": {
            "text/plain": [
              "               Year  Estimated Value    Sale Price     num_rooms  \\\n",
              "count  10000.000000     8.771000e+03  1.000000e+04  10000.000000   \n",
              "mean    2015.880100     4.445842e+05  6.224748e+05      3.329600   \n",
              "std        4.088031     7.513565e+05  1.029709e+06      0.885123   \n",
              "min     2009.000000     0.000000e+00  2.000000e+03      3.000000   \n",
              "25%     2012.000000     1.305250e+05  1.600000e+05      3.000000   \n",
              "50%     2016.000000     2.431800e+05  3.400000e+05      3.000000   \n",
              "75%     2019.000000     4.418300e+05  6.300000e+05      3.000000   \n",
              "max     2022.000000     2.111991e+07  2.575000e+07      8.000000   \n",
              "\n",
              "       num_bathrooms  carpet_area  property_tax_rate  \n",
              "count   10000.000000  8718.000000       10000.000000  \n",
              "mean        2.334000  1111.658981           1.143517  \n",
              "std         1.209293   305.058455           0.166762  \n",
              "min         1.000000   900.000000           1.003979  \n",
              "25%         1.000000   960.000000           1.023495  \n",
              "50%         2.000000  1021.000000           1.025899  \n",
              "75%         3.000000  1082.000000           1.348259  \n",
              "max         8.000000  2989.000000           1.422308  "
            ],
            "text/html": [
              "\n",
              "  <div id=\"df-9e5d667c-0c6d-4c77-885d-e17e7888d17b\" class=\"colab-df-container\">\n",
              "    <div>\n",
              "<style scoped>\n",
              "    .dataframe tbody tr th:only-of-type {\n",
              "        vertical-align: middle;\n",
              "    }\n",
              "\n",
              "    .dataframe tbody tr th {\n",
              "        vertical-align: top;\n",
              "    }\n",
              "\n",
              "    .dataframe thead th {\n",
              "        text-align: right;\n",
              "    }\n",
              "</style>\n",
              "<table border=\"1\" class=\"dataframe\">\n",
              "  <thead>\n",
              "    <tr style=\"text-align: right;\">\n",
              "      <th></th>\n",
              "      <th>Year</th>\n",
              "      <th>Estimated Value</th>\n",
              "      <th>Sale Price</th>\n",
              "      <th>num_rooms</th>\n",
              "      <th>num_bathrooms</th>\n",
              "      <th>carpet_area</th>\n",
              "      <th>property_tax_rate</th>\n",
              "    </tr>\n",
              "  </thead>\n",
              "  <tbody>\n",
              "    <tr>\n",
              "      <th>count</th>\n",
              "      <td>10000.000000</td>\n",
              "      <td>8.771000e+03</td>\n",
              "      <td>1.000000e+04</td>\n",
              "      <td>10000.000000</td>\n",
              "      <td>10000.000000</td>\n",
              "      <td>8718.000000</td>\n",
              "      <td>10000.000000</td>\n",
              "    </tr>\n",
              "    <tr>\n",
              "      <th>mean</th>\n",
              "      <td>2015.880100</td>\n",
              "      <td>4.445842e+05</td>\n",
              "      <td>6.224748e+05</td>\n",
              "      <td>3.329600</td>\n",
              "      <td>2.334000</td>\n",
              "      <td>1111.658981</td>\n",
              "      <td>1.143517</td>\n",
              "    </tr>\n",
              "    <tr>\n",
              "      <th>std</th>\n",
              "      <td>4.088031</td>\n",
              "      <td>7.513565e+05</td>\n",
              "      <td>1.029709e+06</td>\n",
              "      <td>0.885123</td>\n",
              "      <td>1.209293</td>\n",
              "      <td>305.058455</td>\n",
              "      <td>0.166762</td>\n",
              "    </tr>\n",
              "    <tr>\n",
              "      <th>min</th>\n",
              "      <td>2009.000000</td>\n",
              "      <td>0.000000e+00</td>\n",
              "      <td>2.000000e+03</td>\n",
              "      <td>3.000000</td>\n",
              "      <td>1.000000</td>\n",
              "      <td>900.000000</td>\n",
              "      <td>1.003979</td>\n",
              "    </tr>\n",
              "    <tr>\n",
              "      <th>25%</th>\n",
              "      <td>2012.000000</td>\n",
              "      <td>1.305250e+05</td>\n",
              "      <td>1.600000e+05</td>\n",
              "      <td>3.000000</td>\n",
              "      <td>1.000000</td>\n",
              "      <td>960.000000</td>\n",
              "      <td>1.023495</td>\n",
              "    </tr>\n",
              "    <tr>\n",
              "      <th>50%</th>\n",
              "      <td>2016.000000</td>\n",
              "      <td>2.431800e+05</td>\n",
              "      <td>3.400000e+05</td>\n",
              "      <td>3.000000</td>\n",
              "      <td>2.000000</td>\n",
              "      <td>1021.000000</td>\n",
              "      <td>1.025899</td>\n",
              "    </tr>\n",
              "    <tr>\n",
              "      <th>75%</th>\n",
              "      <td>2019.000000</td>\n",
              "      <td>4.418300e+05</td>\n",
              "      <td>6.300000e+05</td>\n",
              "      <td>3.000000</td>\n",
              "      <td>3.000000</td>\n",
              "      <td>1082.000000</td>\n",
              "      <td>1.348259</td>\n",
              "    </tr>\n",
              "    <tr>\n",
              "      <th>max</th>\n",
              "      <td>2022.000000</td>\n",
              "      <td>2.111991e+07</td>\n",
              "      <td>2.575000e+07</td>\n",
              "      <td>8.000000</td>\n",
              "      <td>8.000000</td>\n",
              "      <td>2989.000000</td>\n",
              "      <td>1.422308</td>\n",
              "    </tr>\n",
              "  </tbody>\n",
              "</table>\n",
              "</div>\n",
              "    <div class=\"colab-df-buttons\">\n",
              "\n",
              "  <div class=\"colab-df-container\">\n",
              "    <button class=\"colab-df-convert\" onclick=\"convertToInteractive('df-9e5d667c-0c6d-4c77-885d-e17e7888d17b')\"\n",
              "            title=\"Convert this dataframe to an interactive table.\"\n",
              "            style=\"display:none;\">\n",
              "\n",
              "  <svg xmlns=\"http://www.w3.org/2000/svg\" height=\"24px\" viewBox=\"0 -960 960 960\">\n",
              "    <path d=\"M120-120v-720h720v720H120Zm60-500h600v-160H180v160Zm220 220h160v-160H400v160Zm0 220h160v-160H400v160ZM180-400h160v-160H180v160Zm440 0h160v-160H620v160ZM180-180h160v-160H180v160Zm440 0h160v-160H620v160Z\"/>\n",
              "  </svg>\n",
              "    </button>\n",
              "\n",
              "  <style>\n",
              "    .colab-df-container {\n",
              "      display:flex;\n",
              "      gap: 12px;\n",
              "    }\n",
              "\n",
              "    .colab-df-convert {\n",
              "      background-color: #E8F0FE;\n",
              "      border: none;\n",
              "      border-radius: 50%;\n",
              "      cursor: pointer;\n",
              "      display: none;\n",
              "      fill: #1967D2;\n",
              "      height: 32px;\n",
              "      padding: 0 0 0 0;\n",
              "      width: 32px;\n",
              "    }\n",
              "\n",
              "    .colab-df-convert:hover {\n",
              "      background-color: #E2EBFA;\n",
              "      box-shadow: 0px 1px 2px rgba(60, 64, 67, 0.3), 0px 1px 3px 1px rgba(60, 64, 67, 0.15);\n",
              "      fill: #174EA6;\n",
              "    }\n",
              "\n",
              "    .colab-df-buttons div {\n",
              "      margin-bottom: 4px;\n",
              "    }\n",
              "\n",
              "    [theme=dark] .colab-df-convert {\n",
              "      background-color: #3B4455;\n",
              "      fill: #D2E3FC;\n",
              "    }\n",
              "\n",
              "    [theme=dark] .colab-df-convert:hover {\n",
              "      background-color: #434B5C;\n",
              "      box-shadow: 0px 1px 3px 1px rgba(0, 0, 0, 0.15);\n",
              "      filter: drop-shadow(0px 1px 2px rgba(0, 0, 0, 0.3));\n",
              "      fill: #FFFFFF;\n",
              "    }\n",
              "  </style>\n",
              "\n",
              "    <script>\n",
              "      const buttonEl =\n",
              "        document.querySelector('#df-9e5d667c-0c6d-4c77-885d-e17e7888d17b button.colab-df-convert');\n",
              "      buttonEl.style.display =\n",
              "        google.colab.kernel.accessAllowed ? 'block' : 'none';\n",
              "\n",
              "      async function convertToInteractive(key) {\n",
              "        const element = document.querySelector('#df-9e5d667c-0c6d-4c77-885d-e17e7888d17b');\n",
              "        const dataTable =\n",
              "          await google.colab.kernel.invokeFunction('convertToInteractive',\n",
              "                                                    [key], {});\n",
              "        if (!dataTable) return;\n",
              "\n",
              "        const docLinkHtml = 'Like what you see? Visit the ' +\n",
              "          '<a target=\"_blank\" href=https://colab.research.google.com/notebooks/data_table.ipynb>data table notebook</a>'\n",
              "          + ' to learn more about interactive tables.';\n",
              "        element.innerHTML = '';\n",
              "        dataTable['output_type'] = 'display_data';\n",
              "        await google.colab.output.renderOutput(dataTable, element);\n",
              "        const docLink = document.createElement('div');\n",
              "        docLink.innerHTML = docLinkHtml;\n",
              "        element.appendChild(docLink);\n",
              "      }\n",
              "    </script>\n",
              "  </div>\n",
              "\n",
              "\n",
              "<div id=\"df-ca8f1206-640d-4d01-97bb-d0d107c72e30\">\n",
              "  <button class=\"colab-df-quickchart\" onclick=\"quickchart('df-ca8f1206-640d-4d01-97bb-d0d107c72e30')\"\n",
              "            title=\"Suggest charts\"\n",
              "            style=\"display:none;\">\n",
              "\n",
              "<svg xmlns=\"http://www.w3.org/2000/svg\" height=\"24px\"viewBox=\"0 0 24 24\"\n",
              "     width=\"24px\">\n",
              "    <g>\n",
              "        <path d=\"M19 3H5c-1.1 0-2 .9-2 2v14c0 1.1.9 2 2 2h14c1.1 0 2-.9 2-2V5c0-1.1-.9-2-2-2zM9 17H7v-7h2v7zm4 0h-2V7h2v10zm4 0h-2v-4h2v4z\"/>\n",
              "    </g>\n",
              "</svg>\n",
              "  </button>\n",
              "\n",
              "<style>\n",
              "  .colab-df-quickchart {\n",
              "      --bg-color: #E8F0FE;\n",
              "      --fill-color: #1967D2;\n",
              "      --hover-bg-color: #E2EBFA;\n",
              "      --hover-fill-color: #174EA6;\n",
              "      --disabled-fill-color: #AAA;\n",
              "      --disabled-bg-color: #DDD;\n",
              "  }\n",
              "\n",
              "  [theme=dark] .colab-df-quickchart {\n",
              "      --bg-color: #3B4455;\n",
              "      --fill-color: #D2E3FC;\n",
              "      --hover-bg-color: #434B5C;\n",
              "      --hover-fill-color: #FFFFFF;\n",
              "      --disabled-bg-color: #3B4455;\n",
              "      --disabled-fill-color: #666;\n",
              "  }\n",
              "\n",
              "  .colab-df-quickchart {\n",
              "    background-color: var(--bg-color);\n",
              "    border: none;\n",
              "    border-radius: 50%;\n",
              "    cursor: pointer;\n",
              "    display: none;\n",
              "    fill: var(--fill-color);\n",
              "    height: 32px;\n",
              "    padding: 0;\n",
              "    width: 32px;\n",
              "  }\n",
              "\n",
              "  .colab-df-quickchart:hover {\n",
              "    background-color: var(--hover-bg-color);\n",
              "    box-shadow: 0 1px 2px rgba(60, 64, 67, 0.3), 0 1px 3px 1px rgba(60, 64, 67, 0.15);\n",
              "    fill: var(--button-hover-fill-color);\n",
              "  }\n",
              "\n",
              "  .colab-df-quickchart-complete:disabled,\n",
              "  .colab-df-quickchart-complete:disabled:hover {\n",
              "    background-color: var(--disabled-bg-color);\n",
              "    fill: var(--disabled-fill-color);\n",
              "    box-shadow: none;\n",
              "  }\n",
              "\n",
              "  .colab-df-spinner {\n",
              "    border: 2px solid var(--fill-color);\n",
              "    border-color: transparent;\n",
              "    border-bottom-color: var(--fill-color);\n",
              "    animation:\n",
              "      spin 1s steps(1) infinite;\n",
              "  }\n",
              "\n",
              "  @keyframes spin {\n",
              "    0% {\n",
              "      border-color: transparent;\n",
              "      border-bottom-color: var(--fill-color);\n",
              "      border-left-color: var(--fill-color);\n",
              "    }\n",
              "    20% {\n",
              "      border-color: transparent;\n",
              "      border-left-color: var(--fill-color);\n",
              "      border-top-color: var(--fill-color);\n",
              "    }\n",
              "    30% {\n",
              "      border-color: transparent;\n",
              "      border-left-color: var(--fill-color);\n",
              "      border-top-color: var(--fill-color);\n",
              "      border-right-color: var(--fill-color);\n",
              "    }\n",
              "    40% {\n",
              "      border-color: transparent;\n",
              "      border-right-color: var(--fill-color);\n",
              "      border-top-color: var(--fill-color);\n",
              "    }\n",
              "    60% {\n",
              "      border-color: transparent;\n",
              "      border-right-color: var(--fill-color);\n",
              "    }\n",
              "    80% {\n",
              "      border-color: transparent;\n",
              "      border-right-color: var(--fill-color);\n",
              "      border-bottom-color: var(--fill-color);\n",
              "    }\n",
              "    90% {\n",
              "      border-color: transparent;\n",
              "      border-bottom-color: var(--fill-color);\n",
              "    }\n",
              "  }\n",
              "</style>\n",
              "\n",
              "  <script>\n",
              "    async function quickchart(key) {\n",
              "      const quickchartButtonEl =\n",
              "        document.querySelector('#' + key + ' button');\n",
              "      quickchartButtonEl.disabled = true;  // To prevent multiple clicks.\n",
              "      quickchartButtonEl.classList.add('colab-df-spinner');\n",
              "      try {\n",
              "        const charts = await google.colab.kernel.invokeFunction(\n",
              "            'suggestCharts', [key], {});\n",
              "      } catch (error) {\n",
              "        console.error('Error during call to suggestCharts:', error);\n",
              "      }\n",
              "      quickchartButtonEl.classList.remove('colab-df-spinner');\n",
              "      quickchartButtonEl.classList.add('colab-df-quickchart-complete');\n",
              "    }\n",
              "    (() => {\n",
              "      let quickchartButtonEl =\n",
              "        document.querySelector('#df-ca8f1206-640d-4d01-97bb-d0d107c72e30 button');\n",
              "      quickchartButtonEl.style.display =\n",
              "        google.colab.kernel.accessAllowed ? 'block' : 'none';\n",
              "    })();\n",
              "  </script>\n",
              "</div>\n",
              "\n",
              "    </div>\n",
              "  </div>\n"
            ],
            "application/vnd.google.colaboratory.intrinsic+json": {
              "type": "dataframe",
              "summary": "{\n  \"name\": \"df\",\n  \"rows\": 8,\n  \"fields\": [\n    {\n      \"column\": \"Year\",\n      \"properties\": {\n        \"dtype\": \"number\",\n        \"std\": 3008.0152652364086,\n        \"min\": 4.088030722673077,\n        \"max\": 10000.0,\n        \"num_unique_values\": 8,\n        \"samples\": [\n          2015.8801,\n          2016.0,\n          10000.0\n        ],\n        \"semantic_type\": \"\",\n        \"description\": \"\"\n      }\n    },\n    {\n      \"column\": \"Estimated Value\",\n      \"properties\": {\n        \"dtype\": \"number\",\n        \"std\": 7369346.721431804,\n        \"min\": 0.0,\n        \"max\": 21119910.0,\n        \"num_unique_values\": 8,\n        \"samples\": [\n          444584.20704594685,\n          243180.0,\n          8771.0\n        ],\n        \"semantic_type\": \"\",\n        \"description\": \"\"\n      }\n    },\n    {\n      \"column\": \"Sale Price\",\n      \"properties\": {\n        \"dtype\": \"number\",\n        \"std\": 8969807.87701542,\n        \"min\": 2000.0,\n        \"max\": 25750000.0,\n        \"num_unique_values\": 8,\n        \"samples\": [\n          622474.8346,\n          340000.0,\n          10000.0\n        ],\n        \"semantic_type\": \"\",\n        \"description\": \"\"\n      }\n    },\n    {\n      \"column\": \"num_rooms\",\n      \"properties\": {\n        \"dtype\": \"number\",\n        \"std\": 3534.3114457485185,\n        \"min\": 0.8851226944432178,\n        \"max\": 10000.0,\n        \"num_unique_values\": 5,\n        \"samples\": [\n          3.3296,\n          8.0,\n          0.8851226944432178\n        ],\n        \"semantic_type\": \"\",\n        \"description\": \"\"\n      }\n    },\n    {\n      \"column\": \"num_bathrooms\",\n      \"properties\": {\n        \"dtype\": \"number\",\n        \"std\": 3534.598071614538,\n        \"min\": 1.0,\n        \"max\": 10000.0,\n        \"num_unique_values\": 7,\n        \"samples\": [\n          10000.0,\n          2.334,\n          3.0\n        ],\n        \"semantic_type\": \"\",\n        \"description\": \"\"\n      }\n    },\n    {\n      \"column\": \"carpet_area\",\n      \"properties\": {\n        \"dtype\": \"number\",\n        \"std\": 2770.166762857387,\n        \"min\": 305.0584549064621,\n        \"max\": 8718.0,\n        \"num_unique_values\": 8,\n        \"samples\": [\n          1111.6589814177564,\n          1021.0,\n          8718.0\n        ],\n        \"semantic_type\": \"\",\n        \"description\": \"\"\n      }\n    },\n    {\n      \"column\": \"property_tax_rate\",\n      \"properties\": {\n        \"dtype\": \"number\",\n        \"std\": 3535.1735938829074,\n        \"min\": 0.1667620780888612,\n        \"max\": 10000.0,\n        \"num_unique_values\": 8,\n        \"samples\": [\n          1.1435168593999998,\n          1.0258995,\n          10000.0\n        ],\n        \"semantic_type\": \"\",\n        \"description\": \"\"\n      }\n    }\n  ]\n}"
            }
          },
          "metadata": {},
          "execution_count": 16
        }
      ]
    },
    {
      "cell_type": "code",
      "source": [
        "df.columns"
      ],
      "metadata": {
        "colab": {
          "base_uri": "https://localhost:8080/"
        },
        "id": "fSs7wxRoFkGy",
        "outputId": "a532f70a-5a08-4a2f-d2bd-24e600d321ee"
      },
      "execution_count": null,
      "outputs": [
        {
          "output_type": "execute_result",
          "data": {
            "text/plain": [
              "Index(['Date', 'Year', 'Locality', 'Estimated Value', 'Sale Price', 'Property',\n",
              "       'Residential', 'num_rooms', 'num_bathrooms', 'carpet_area',\n",
              "       'property_tax_rate', 'Face'],\n",
              "      dtype='object')"
            ]
          },
          "metadata": {},
          "execution_count": 17
        }
      ]
    },
    {
      "cell_type": "markdown",
      "source": [
        "__DATA CLEANING__"
      ],
      "metadata": {
        "id": "O_0ordoNPgvE"
      }
    },
    {
      "cell_type": "code",
      "source": [
        " # Change Estimated Value and Sale Price columns to snake case\n",
        "df.columns = ['Date', 'Year', 'Locality', 'estimated_value', 'sale_price', 'Property',\n",
        "       'Residential', 'num_rooms', 'num_bathrooms', 'carpet_area',\n",
        "       'property_tax_rate', 'Face']"
      ],
      "metadata": {
        "id": "2D0vNj5bFkJH"
      },
      "execution_count": null,
      "outputs": []
    },
    {
      "cell_type": "code",
      "source": [
        "df.carpet_area.median()"
      ],
      "metadata": {
        "id": "srl3ZJL_Fkbe",
        "colab": {
          "base_uri": "https://localhost:8080/"
        },
        "outputId": "ef635477-daab-47ae-e312-7efb18901d2b"
      },
      "execution_count": null,
      "outputs": [
        {
          "output_type": "execute_result",
          "data": {
            "text/plain": [
              "1021.0"
            ]
          },
          "metadata": {},
          "execution_count": 20
        }
      ]
    },
    {
      "cell_type": "code",
      "source": [
        "# fill null values in carpet_area with the median value\n",
        "df.carpet_area.fillna(1021, inplace = True)"
      ],
      "metadata": {
        "id": "njLkRJlXFkgF"
      },
      "execution_count": null,
      "outputs": []
    },
    {
      "cell_type": "code",
      "source": [
        "# fill null values in Estimated_Values with zero (0)\n",
        "df.estimated_value.fillna(0, inplace = True)"
      ],
      "metadata": {
        "id": "xqyVLqYeFki0"
      },
      "execution_count": null,
      "outputs": []
    },
    {
      "cell_type": "code",
      "source": [
        "# drop null values in locality\n",
        "df.dropna(inplace = True)"
      ],
      "metadata": {
        "id": "lQmTpCzLnkqB"
      },
      "execution_count": null,
      "outputs": []
    },
    {
      "cell_type": "code",
      "source": [
        "df.isna().sum()"
      ],
      "metadata": {
        "colab": {
          "base_uri": "https://localhost:8080/"
        },
        "id": "u4TZ1Y2HnzXs",
        "outputId": "4842c1ec-f16d-4359-8131-cf7d667a870f"
      },
      "execution_count": null,
      "outputs": [
        {
          "output_type": "execute_result",
          "data": {
            "text/plain": [
              "Date                 0\n",
              "Year                 0\n",
              "Locality             0\n",
              "estimated_value      0\n",
              "sale_price           0\n",
              "Property             0\n",
              "Residential          0\n",
              "num_rooms            0\n",
              "num_bathrooms        0\n",
              "carpet_area          0\n",
              "property_tax_rate    0\n",
              "Face                 0\n",
              "dtype: int64"
            ]
          },
          "metadata": {},
          "execution_count": 25
        }
      ]
    },
    {
      "cell_type": "markdown",
      "source": [
        "__All null values have been taken care of__"
      ],
      "metadata": {
        "id": "pwT9LMUooCm5"
      }
    },
    {
      "cell_type": "code",
      "source": [
        "df = df[df.Property != '?']"
      ],
      "metadata": {
        "id": "skLhWgKIQajG"
      },
      "execution_count": null,
      "outputs": []
    },
    {
      "cell_type": "code",
      "source": [
        "# updating dataset to cleaned version\n",
        "df.to_csv('/content/drive/MyDrive/Data Science and Analytics/WTF Data Science and AI/Datasets/Power BI/Real Estate Dataset',index = False)"
      ],
      "metadata": {
        "id": "TNXPj0jPrio9"
      },
      "execution_count": null,
      "outputs": []
    },
    {
      "cell_type": "markdown",
      "source": [
        "__DATA VISUALIZATION__"
      ],
      "metadata": {
        "id": "wyluXdRsSCw4"
      }
    },
    {
      "cell_type": "code",
      "source": [
        "# Will Be Done in Power BI"
      ],
      "metadata": {
        "id": "r5htYCn5SBz3"
      },
      "execution_count": null,
      "outputs": []
    }
  ]
}